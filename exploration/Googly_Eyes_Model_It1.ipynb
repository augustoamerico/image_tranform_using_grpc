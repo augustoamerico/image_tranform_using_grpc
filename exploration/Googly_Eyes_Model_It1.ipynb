{
 "cells": [
  {
   "cell_type": "code",
   "execution_count": 13,
   "metadata": {},
   "outputs": [],
   "source": [
    "import cv2\n",
    "import imutils\n",
    "import numpy as np\n",
    "import random"
   ]
  },
  {
   "cell_type": "code",
   "execution_count": 14,
   "metadata": {},
   "outputs": [],
   "source": [
    "face_cascade = cv2.CascadeClassifier(cv2.data.haarcascades + 'haarcascade_frontalface_default.xml')\n",
    "eye_cascade = cv2.CascadeClassifier(cv2.data.haarcascades + 'haarcascade_eye.xml')"
   ]
  },
  {
   "cell_type": "code",
   "execution_count": 15,
   "metadata": {},
   "outputs": [],
   "source": [
    "img = cv2.imread('...')\n",
    "googly_eye = cv2.imread('./googly_eye_tr.png', cv2.IMREAD_UNCHANGED)"
   ]
  },
  {
   "cell_type": "code",
   "execution_count": 17,
   "metadata": {},
   "outputs": [],
   "source": [
    "gray = cv2.cvtColor(img, cv2.COLOR_BGR2GRAY)"
   ]
  },
  {
   "cell_type": "code",
   "execution_count": 18,
   "metadata": {},
   "outputs": [],
   "source": [
    "random.seed(125)"
   ]
  },
  {
   "cell_type": "code",
   "execution_count": 19,
   "metadata": {},
   "outputs": [],
   "source": [
    "faces = face_cascade.detectMultiScale(gray, 1.3, 8)\n",
    "for (x,y,w,h) in faces:\n",
    "    #img = cv2.rectangle(img,(x,y),(x+w,y+h),(255,0,0),2)\n",
    "    roi_gray = gray[y:y+h, x:x+w]\n",
    "    roi_color = img[y:y+h, x:x+w]\n",
    "    eyes = eye_cascade.detectMultiScale(roi_gray, 1.3, 5)\n",
    "    for (ex,ey,ew,eh) in eyes:\n",
    "        eye = cv2.resize(googly_eye.copy(), (ew, eh))\n",
    "        eye = imutils.rotate(eye, int(360*random.random()))\n",
    "        rows,cols,channels = eye.shape\n",
    "        b,g,r,a = cv2.split(eye)\n",
    "        overlay_color = cv2.merge((b,g,r))\n",
    "        \n",
    "        mask = cv2.medianBlur(a,5)\n",
    "        h, w, _ = overlay_color.shape\n",
    "        \n",
    "        img_eye_roi = roi_color[ey:ey+cols, ex:ex+rows]\n",
    "        \n",
    "        img1_bg = cv2.bitwise_and(img_eye_roi.copy(),img_eye_roi.copy(),mask = cv2.bitwise_not(mask))\n",
    "        img2_fg = cv2.bitwise_and(overlay_color,overlay_color,mask = mask)\n",
    "        \n",
    "        roi_color[ey:ey+ew, ex:ex+eh] = cv2.add(img1_bg, img2_fg)\n",
    "        #cv2.rectangle(roi_color,(ex,ey),(ex+ew,ey+eh),(0,255,0),2)\n"
   ]
  },
  {
   "cell_type": "code",
   "execution_count": null,
   "metadata": {},
   "outputs": [],
   "source": [
    "cv2.imshow('img',img)\n",
    "cv2.waitKey(0)\n",
    "cv2.destroyAllWindows()"
   ]
  },
  {
   "cell_type": "code",
   "execution_count": 8,
   "metadata": {},
   "outputs": [],
   "source": [
    "#https://gist.github.com/clungzta/b4bbb3e2aa0490b0cfcbc042184b0b4e\n",
    "#https://stackoverflow.com/questions/40895785/using-opencv-to-overlay-transparent-image-onto-another-image\n",
    "#https://github.com/fatcat2/googly-eyes/blob/master/Python/piceyefilters.py"
   ]
  }
 ],
 "metadata": {
  "kernelspec": {
   "display_name": "Python 3",
   "language": "python",
   "name": "python3"
  },
  "language_info": {
   "codemirror_mode": {
    "name": "ipython",
    "version": 3
   },
   "file_extension": ".py",
   "mimetype": "text/x-python",
   "name": "python",
   "nbconvert_exporter": "python",
   "pygments_lexer": "ipython3",
   "version": "3.7.6"
  }
 },
 "nbformat": 4,
 "nbformat_minor": 4
}
